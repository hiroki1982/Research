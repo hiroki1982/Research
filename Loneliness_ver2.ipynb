{
  "nbformat": 4,
  "nbformat_minor": 0,
  "metadata": {
    "colab": {
      "provenance": [],
      "authorship_tag": "ABX9TyNKMDG+cGIWktJkiyRXFM11",
      "include_colab_link": true
    },
    "kernelspec": {
      "name": "python3",
      "display_name": "Python 3"
    },
    "language_info": {
      "name": "python"
    }
  },
  "cells": [
    {
      "cell_type": "markdown",
      "metadata": {
        "id": "view-in-github",
        "colab_type": "text"
      },
      "source": [
        "<a href=\"https://colab.research.google.com/github/hiroki1982/Research/blob/main/Loneliness_ver2.ipynb\" target=\"_parent\"><img src=\"https://colab.research.google.com/assets/colab-badge.svg\" alt=\"Open In Colab\"/></a>"
      ]
    },
    {
      "cell_type": "code",
      "source": [],
      "metadata": {
        "id": "apvxn3NXHbY3"
      },
      "execution_count": null,
      "outputs": []
    },
    {
      "cell_type": "code",
      "execution_count": null,
      "metadata": {
        "id": "KeaFVUc5x7Ra"
      },
      "outputs": [],
      "source": [
        "!pip install langchain openai pandas\n",
        "!pip install -U langchain langchain-community"
      ]
    },
    {
      "cell_type": "code",
      "source": [
        "# LangChain × CSVベース人格読み込み＆応答傾向ロギングテンプレート（最新版）\n",
        "\n",
        "# 1. 必要なライブラリ\n",
        "!pip install -U langchain langchain-community openai pandas\n",
        "\n",
        "# 2. ライブラリ読み込み\n",
        "import pandas as pd\n",
        "from langchain.chat_models import ChatOpenAI\n",
        "from langchain.chains import LLMChain\n",
        "from langchain.memory import ConversationBufferMemory\n",
        "from langchain.prompts import PromptTemplate\n",
        "import os\n",
        "from datetime import datetime\n",
        "import csv\n",
        "\n",
        "# 3. APIキーの設定（ColabのSecretsを使用）\n",
        "from google.colab import userdata\n",
        "api_key = userdata.get('API_KEY')\n",
        "\n",
        "# 4. CSVファイルから人格データを読み込む\n",
        "file_id = \"1kfWn8yJllyufO-Il6Qk1rsFquYGemwGMGlJ5TrZjS24\"\n",
        "csv_url = f\"https://docs.google.com/spreadsheets/d/{file_id}/export?format=csv\"\n",
        "personas = pd.read_csv(csv_url)\n",
        "personas.columns = personas.columns.str.strip().str.replace('\"', '').str.replace(\"'\", '')\n",
        "personas['role'] = personas['role'].str.strip()\n",
        "\n",
        "# 5. 利用可能な人格一覧表示と選択\n",
        "print(\"利用可能な人格一覧:\")\n",
        "options = personas['role'].tolist()\n",
        "for i, role in enumerate(options):\n",
        "    print(f\"{i}: {role}\")\n",
        "\n",
        "selected_index = int(input(\"使用する人格の番号を入力してください: \"))\n",
        "selected_role = options[selected_index]\n",
        "\n",
        "# 6. 該当する人格の記述を取得\n",
        "persona_row = personas[personas['role'] == selected_role]\n",
        "if persona_row.empty:\n",
        "    raise ValueError(\"指定された人格が見つかりませんでした\")\n",
        "persona_description = persona_row['description'].values[0]\n",
        "print(\"選択された人格プロンプト:\\n{persona_description}\\n\")\n",
        "\n",
        "# 7. LangChainセットアップ\n",
        "chat = ChatOpenAI(model=\"gpt-3.5-turbo\", temperature=0.7, api_key=api_key)\n",
        "\n",
        "# 8. プロンプトテンプレート作成\n",
        "prompt_template = PromptTemplate(\n",
        "    input_variables=[\"input\", \"persona\"],\n",
        "    template=\"\"\"\n",
        "{persona}\n",
        "\n",
        "ユーザー: {input}\n",
        "エージェント:\"\"\"\n",
        ")\n",
        "\n",
        "# 9. LLMチェーン構築\n",
        "conversation = LLMChain(\n",
        "    llm=chat,\n",
        "    prompt=prompt_template,\n",
        "    verbose=True\n",
        ")\n",
        "\n",
        "# 10. 応答ログファイル準備\n",
        "log_file = f\"response_log_{selected_role}_{datetime.now().strftime('%Y%m%d_%H%M%S')}.csv\"\n",
        "with open(log_file, mode='w', newline='', encoding='utf-8') as f:\n",
        "    writer = csv.writer(f)\n",
        "    writer.writerow([\"timestamp\", \"user_input\", \"agent_response\"])\n",
        "\n",
        "# 11. 対話ループ開始\n",
        "print(\"=== 人格付きLangChainエージェントとの対話開始（ロギング付き） ===\")\n",
        "print(\"(終了するには 'exit' と入力してください)\")\n",
        "\n",
        "while True:\n",
        "    user_input = input(\"あなた: \")\n",
        "    if user_input.lower() == \"exit\":\n",
        "        print(\"また話しましょう。\")\n",
        "        break\n",
        "\n",
        "    response = conversation.run({\"input\": user_input, \"persona\": persona_description})\n",
        "    print(f\"エージェント: {response}\")\n",
        "\n",
        "    with open(log_file, mode='a', newline='', encoding='utf-8') as f:\n",
        "        writer = csv.writer(f)\n",
        "        writer.writerow([datetime.now().isoformat(), user_input, response])\n"
      ],
      "metadata": {
        "id": "GSGNgqccMCd7"
      },
      "execution_count": null,
      "outputs": []
    },
    {
      "cell_type": "code",
      "source": [],
      "metadata": {
        "id": "IYNogMwpMrN4"
      },
      "execution_count": null,
      "outputs": []
    }
  ]
}