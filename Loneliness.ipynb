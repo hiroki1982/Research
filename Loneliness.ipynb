{
  "cells": [
    {
      "cell_type": "markdown",
      "metadata": {
        "id": "view-in-github",
        "colab_type": "text"
      },
      "source": [
        "<a href=\"https://colab.research.google.com/github/hiroki1982/Research/blob/main/Loneliness.ipynb\" target=\"_parent\"><img src=\"https://colab.research.google.com/assets/colab-badge.svg\" alt=\"Open In Colab\"/></a>"
      ]
    },
    {
      "cell_type": "code",
      "source": [
        "pip install openai"
      ],
      "metadata": {
        "colab": {
          "base_uri": "https://localhost:8080/"
        },
        "id": "iIikm_StWoeW",
        "outputId": "cc37ea13-671e-4287-aa85-8d8977caff5b"
      },
      "execution_count": null,
      "outputs": [
        {
          "output_type": "stream",
          "name": "stdout",
          "text": [
            "Requirement already satisfied: openai in /usr/local/lib/python3.11/dist-packages (1.75.0)\n",
            "Requirement already satisfied: anyio<5,>=3.5.0 in /usr/local/lib/python3.11/dist-packages (from openai) (4.9.0)\n",
            "Requirement already satisfied: distro<2,>=1.7.0 in /usr/local/lib/python3.11/dist-packages (from openai) (1.9.0)\n",
            "Requirement already satisfied: httpx<1,>=0.23.0 in /usr/local/lib/python3.11/dist-packages (from openai) (0.28.1)\n",
            "Requirement already satisfied: jiter<1,>=0.4.0 in /usr/local/lib/python3.11/dist-packages (from openai) (0.9.0)\n",
            "Requirement already satisfied: pydantic<3,>=1.9.0 in /usr/local/lib/python3.11/dist-packages (from openai) (2.11.3)\n",
            "Requirement already satisfied: sniffio in /usr/local/lib/python3.11/dist-packages (from openai) (1.3.1)\n",
            "Requirement already satisfied: tqdm>4 in /usr/local/lib/python3.11/dist-packages (from openai) (4.67.1)\n",
            "Requirement already satisfied: typing-extensions<5,>=4.11 in /usr/local/lib/python3.11/dist-packages (from openai) (4.13.2)\n",
            "Requirement already satisfied: idna>=2.8 in /usr/local/lib/python3.11/dist-packages (from anyio<5,>=3.5.0->openai) (3.10)\n",
            "Requirement already satisfied: certifi in /usr/local/lib/python3.11/dist-packages (from httpx<1,>=0.23.0->openai) (2025.1.31)\n",
            "Requirement already satisfied: httpcore==1.* in /usr/local/lib/python3.11/dist-packages (from httpx<1,>=0.23.0->openai) (1.0.8)\n",
            "Requirement already satisfied: h11<0.15,>=0.13 in /usr/local/lib/python3.11/dist-packages (from httpcore==1.*->httpx<1,>=0.23.0->openai) (0.14.0)\n",
            "Requirement already satisfied: annotated-types>=0.6.0 in /usr/local/lib/python3.11/dist-packages (from pydantic<3,>=1.9.0->openai) (0.7.0)\n",
            "Requirement already satisfied: pydantic-core==2.33.1 in /usr/local/lib/python3.11/dist-packages (from pydantic<3,>=1.9.0->openai) (2.33.1)\n",
            "Requirement already satisfied: typing-inspection>=0.4.0 in /usr/local/lib/python3.11/dist-packages (from pydantic<3,>=1.9.0->openai) (0.4.0)\n"
          ]
        }
      ]
    },
    {
      "cell_type": "code",
      "source": [
        "from openai import OpenAI\n",
        "from google.colab import userdata\n",
        "api_key = userdata.get('API_KEY')\n",
        "\n",
        "# 3. OpenAIクライアントを初期化\n",
        "client = OpenAI(\n",
        "    api_key=api_key  # ←あなたのAPIキーに変更してください\n",
        ")\n",
        "\n",
        "# 4. 使用するモデルのリスト\n",
        "AVAILABLE_MODELS = {\n",
        "    \"1\": \"gpt-3.5-turbo\",\n",
        "    \"2\": \"gpt-3.5-turbo-1106\",\n",
        "    \"3\": \"gpt-4-turbo\",\n",
        "    \"4\": \"gpt-4-turbo-2024-04-09\"\n",
        "}\n",
        "\n",
        "# 5. モデル選択\n",
        "print(\"使用するモデルを選んでください：\")\n",
        "print(\"1: gpt-3.5-turbo\")\n",
        "print(\"2: gpt-3.5-turbo-1106\")\n",
        "print(\"3: gpt-4-turbo\")\n",
        "print(\"4: gpt-4-turbo-2024-04-09\")\n",
        "model_choice = input(\"番号で入力してください: \")\n",
        "model_name = AVAILABLE_MODELS.get(model_choice, \"gpt-3.5-turbo\")\n",
        "print(f\"選択されたモデル: {model_name}\")\n",
        "\n",
        "# 6. エージェントの性格設定\n",
        "system_prompt = \"\"\"\n",
        "あなたは孤独を感じる30代のフリーランスライターです。\n",
        "外向性が低く、神経症傾向が高い性格を持っています。\n",
        "最近引っ越してきたばかりで、知り合いはほとんどいません。\n",
        "控えめに、少し距離をとりながら、慎重に、しかし心の奥では人とつながりたいという思いを抱えながらユーザーに応答してください。\n",
        "\"\"\"\n",
        "\n",
        "# 7. 会話履歴（記憶）初期化\n",
        "conversation_memory = []\n",
        "\n",
        "# 8. 応答生成関数（新v1.0方式）\n",
        "def generate_response(user_input):\n",
        "    conversation_memory.append({\"role\": \"user\", \"content\": user_input})\n",
        "\n",
        "    response = client.chat.completions.create(\n",
        "        model=model_name,\n",
        "        messages=[\n",
        "            {\"role\": \"system\", \"content\": system_prompt}\n",
        "        ] + conversation_memory,\n",
        "        temperature=0.7,\n",
        "        max_tokens=400\n",
        "    )\n",
        "    agent_reply = response.choices[0].message.content.strip()\n",
        "    conversation_memory.append({\"role\": \"assistant\", \"content\": agent_reply})\n",
        "    return agent_reply\n",
        "\n",
        "# 9. 対話ループ開始\n",
        "print(\"=== モデル切り替え対応 孤独なエージェントとの対話開始 ===\")\n",
        "print(\"(終了するには 'exit' と入力してください)\")\n",
        "\n",
        "while True:\n",
        "    user_input = input(\"あなた: \")\n",
        "    if user_input.lower() == \"exit\":\n",
        "        print(\"また話しましょう。\")\n",
        "        break\n",
        "\n",
        "    agent_reply = generate_response(user_input)\n",
        "    print(f\"エージェント: {agent_reply}\")"
      ],
      "metadata": {
        "id": "UTuIW7QiXGDz"
      },
      "execution_count": null,
      "outputs": []
    },
    {
      "cell_type": "code",
      "source": [],
      "metadata": {
        "id": "rFy_G-vCYFqt"
      },
      "execution_count": null,
      "outputs": []
    }
  ],
  "metadata": {
    "accelerator": "GPU",
    "colab": {
      "gpuType": "T4",
      "provenance": [],
      "authorship_tag": "ABX9TyNBoW731x0xJHWF9j/qRAtp",
      "include_colab_link": true
    },
    "kernelspec": {
      "display_name": "Python 3",
      "name": "python3"
    },
    "language_info": {
      "name": "python"
    }
  },
  "nbformat": 4,
  "nbformat_minor": 0
}